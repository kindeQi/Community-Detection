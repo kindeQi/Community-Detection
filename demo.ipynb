{
 "nbformat": 4,
 "nbformat_minor": 2,
 "metadata": {
  "language_info": {
   "name": "python",
   "codemirror_mode": {
    "name": "ipython",
    "version": 3
   },
   "version": "3.6.8"
  },
  "orig_nbformat": 2,
  "file_extension": ".py",
  "mimetype": "text/x-python",
  "name": "python",
  "npconvert_exporter": "python",
  "pygments_lexer": "ipython3",
  "version": 3
 },
 "cells": [
  {
   "cell_type": "code",
   "execution_count": 1,
   "metadata": {},
   "outputs": [],
   "source": [
    "import pandas\n",
    "import pickle\n",
    "from collections import defaultdict\n",
    "from girvan_newman import GNDataset, GNModel, GNBetweenessGraph, GNModularityGraph"
   ]
  },
  {
   "cell_type": "code",
   "execution_count": 2,
   "metadata": {},
   "outputs": [],
   "source": [
    "DUMMY_Graph = {\n",
    "    \"A\": [\"B\", \"C\"],\n",
    "    \"B\": [\"A\", \"C\", \"D\"],\n",
    "    \"C\": [\"A\", \"B\"],\n",
    "    \"D\": [\"B\", \"E\", \"F\", \"G\"],\n",
    "    \"E\": [\"D\", \"F\"],\n",
    "    \"F\": [\"D\", \"E\", \"G\"],\n",
    "    \"G\": [\"D\", \"F\"]\n",
    "}"
   ]
  },
  {
   "cell_type": "code",
   "execution_count": 3,
   "metadata": {},
   "outputs": [
    {
     "name": "stdout",
     "output_type": "stream",
     "text": "Given 'E' as root, Betweenes\n('A', 'B') 1.0\n('B', 'C') 1.0\n('B', 'D') 3.0\n('D', 'E') 4.5\n('D', 'G') 0.5\n('E', 'F') 1.5\n('F', 'G') 0.5\n\nOverall betweeness\n('A', 'B') 5.0\n('A', 'C') 1.0\n('B', 'C') 5.0\n('B', 'D') 12.0\n('D', 'E') 4.5\n('D', 'F') 4.0\n('D', 'G') 4.5\n('E', 'F') 1.5\n('F', 'G') 1.5\n"
    }
   ],
   "source": [
    "# Betweeness with given root node\n",
    "gn_betweeness_graph = GNBetweenessGraph(DUMMY_Graph)\n",
    "print(\"Given 'E' as root, Betweenes\")\n",
    "for l in sorted(gn_betweeness_graph.betweeness('E'), key=lambda x: x[0]):\n",
    "    print(l[0], l[1])\n",
    "\n",
    "\n",
    "# Overall betweeness\n",
    "vertices = list(DUMMY_Graph.keys())\n",
    "edges_to_betweeness = dict()\n",
    "for v1, v2s in DUMMY_Graph.items():\n",
    "    for v2 in v2s:\n",
    "        edges_to_betweeness[(min(v1, v2), max(v1, v2))] = 0\n",
    "for v in vertices:\n",
    "    betweenesses = gn_betweeness_graph.betweeness(v)\n",
    "    for edge, betweeness in betweenesses:\n",
    "        edges_to_betweeness[edge] += betweeness / 2\n",
    "\n",
    "print(\"\\nOverall betweeness\")\n",
    "for k, v in edges_to_betweeness.items():\n",
    "    print(k, v)"
   ]
  },
  {
   "cell_type": "code",
   "execution_count": 4,
   "metadata": {},
   "outputs": [
    {
     "data": {
      "text/plain": "[('B', 'D')]"
     },
     "execution_count": 4,
     "metadata": {},
     "output_type": "execute_result"
    }
   ],
   "source": [
    "# Find highest betweeness edge with spark\n",
    "# Map: calculation betweeness given one vertice as root node\n",
    "# Reduce: Find the edge with highest betweeness\n",
    "gn_model = GNModel(GNDataset(DUMMY_Graph))\n",
    "gn_model.highest_betweeness_edges()"
   ]
  },
  {
   "cell_type": "code",
   "execution_count": 5,
   "metadata": {},
   "outputs": [
    {
     "name": "stdout",
     "output_type": "stream",
     "text": "Remove (A, B), modularity: 0.0000\nRemove (B, C), modularity: 0.0000\nRemove (A, C), modularity: 0.0000\nRemove (F, G), modularity: 0.0000\nRemove (B, D), modularity: 0.3642\nRemove (D, E), modularity: 0.0000\nRemove (E, F), modularity: 0.0000\nRemove (D, F), modularity: 0.0000\nRemove (D, G), modularity: 0.0000\n"
    }
   ],
   "source": [
    "# Modularity\n",
    "gn_modularity_graph = GNModularityGraph(DUMMY_Graph)\n",
    "\n",
    "edges = set()\n",
    "for v1, v2s in DUMMY_Graph.items():\n",
    "    for v2 in v2s:\n",
    "        edges.add((min(v1, v2), max(v1, v2)))\n",
    "\n",
    "for v1, v2 in edges:\n",
    "    DUMMY_Graph[v1].remove(v2)\n",
    "    DUMMY_Graph[v2].remove(v1)\n",
    "    print(\"Remove ({}, {}), modularity: {:.4f}\".format(v1, v2, gn_modularity_graph.modularity(DUMMY_Graph)))\n",
    "    DUMMY_Graph[v1].append(v2)\n",
    "    DUMMY_Graph[v2].append(v1)"
   ]
  },
  {
   "cell_type": "code",
   "execution_count": 6,
   "metadata": {},
   "outputs": [
    {
     "name": "stderr",
     "output_type": "stream",
     "text": "INFO:girvan_newman.model:Iter:  1, Modularity: 0.3642\nINFO:girvan_newman.model:Iter:  2, NOT highest modularity\nINFO:girvan_newman.model:FINISH\n"
    },
    {
     "data": {
      "text/plain": "[['A', 'B', 'C'], ['D', 'E', 'F', 'G']]"
     },
     "execution_count": 6,
     "metadata": {},
     "output_type": "execute_result"
    }
   ],
   "source": [
    "# Find Communities\n",
    "gn_model = GNModel(GNDataset(DUMMY_Graph))\n",
    "gn_model.communities"
   ]
  },
  {
   "cell_type": "code",
   "execution_count": 7,
   "metadata": {},
   "outputs": [
    {
     "name": "stderr",
     "output_type": "stream",
     "text": "INFO:girvan_newman.model:Iter:  1, Modularity: 0.0785\nINFO:girvan_newman.model:Iter:  2, NOT highest modularity\nINFO:girvan_newman.model:Iter:  3, NOT highest modularity\nINFO:girvan_newman.model:Iter:  4, Modularity: 0.5247\nINFO:girvan_newman.model:Iter:  5, NOT highest modularity\nINFO:girvan_newman.model:Iter:  6, NOT highest modularity\nINFO:girvan_newman.model:Iter:  7, NOT highest modularity\nINFO:girvan_newman.model:Iter:  8, NOT highest modularity\nINFO:girvan_newman.model:Iter:  9, NOT highest modularity\nINFO:girvan_newman.model:Iter: 10, NOT highest modularity\nINFO:girvan_newman.model:Iter: 11, NOT highest modularity\nINFO:girvan_newman.model:Iter: 12, Modularity: 0.6249\nINFO:girvan_newman.model:Iter: 13, Modularity: 0.6491\nINFO:girvan_newman.model:Iter: 14, NOT highest modularity\nINFO:girvan_newman.model:Iter: 15, NOT highest modularity\nINFO:girvan_newman.model:Iter: 16, Modularity: 0.6527\nINFO:girvan_newman.model:Iter: 17, Modularity: 0.6823\nINFO:girvan_newman.model:Iter: 18, NOT highest modularity\nINFO:girvan_newman.model:Iter: 19, NOT highest modularity\nINFO:girvan_newman.model:Iter: 20, Modularity: 0.6873\nINFO:girvan_newman.model:Iter: 21, NOT highest modularity\nINFO:girvan_newman.model:Iter: 22, NOT highest modularity\nINFO:girvan_newman.model:Iter: 23, NOT highest modularity\nINFO:girvan_newman.model:Iter: 24, NOT highest modularity\nINFO:girvan_newman.model:Iter: 25, NOT highest modularity\nINFO:girvan_newman.model:Iter: 26, NOT highest modularity\nINFO:girvan_newman.model:Iter: 27, NOT highest modularity\nINFO:girvan_newman.model:Iter: 28, NOT highest modularity\nINFO:girvan_newman.model:Iter: 29, NOT highest modularity\nINFO:girvan_newman.model:Iter: 30, NOT highest modularity\nINFO:girvan_newman.model:Iter: 31, NOT highest modularity\nINFO:girvan_newman.model:Iter: 32, NOT highest modularity\nINFO:girvan_newman.model:Iter: 33, NOT highest modularity\nINFO:girvan_newman.model:FINISH\n--------------Communities-----------------\n[111, 681]\n[142, 1231]\n[283, 2281]\n[359, 468]\n[576, 1033]\n[659, 661]\n[2517, 2744]\n[2862, 2985]\n[54, 102, 125]\n[58, 166, 245]\n[2, 6, 35, 216]\n[8, 119, 1615, 2543]\n[497, 935, 1530, 1992, 2116]\n[60, 74, 120, 183, 209, 728]\n[640, 1245, 1794, 1866, 2113, 2150, 2188, 2606, 2876, 2953, 2955]\n[30, 475, 713, 752, 1072, 1270, 1565, 1620, 1761, 1861, 2479, 2575, 2976, 3280]\n[541, 780, 871, 909, 915, 1136, 1197, 1206, 1355, 1408, 1418, 1498, 1508, 1648, 1723, 1913, 1918, 2005, 2097, 2332, 2374, 2414, 2694, 2696, 2739, 2801, 2901, 2997, 3000, 3063, 3102, 3128, 3268]\n[3, 12, 18, 26, 36, 38, 41, 42, 43, 45, 50, 52, 71, 75, 78, 90, 103, 108, 113, 114, 134, 160, 175, 192, 194, 196, 217, 227, 228, 277, 284, 307, 321, 322, 328, 366, 386, 414, 483, 485, 590, 723, 739, 1030, 1256, 1303]\n[0, 1, 4, 5, 7, 10, 14, 16, 19, 20, 21, 22, 24, 25, 27, 28, 29, 31, 33, 34, 39, 44, 59, 62, 65, 66, 68, 69, 73, 82, 83, 87, 95, 105, 109, 118, 145, 146, 149, 184, 208, 213, 220, 241, 253, 254, 257, 265, 274, 275, 330, 355, 372, 382, 446, 460, 463, 473, 525, 532, 605, 644, 656, 660, 672, 688, 697, 706, 762, 774, 1111, 1121, 1150, 1325, 1389, 1667, 2288]\n"
    }
   ],
   "source": [
    "# Find Communities in a much larger graph\n",
    "larger_graph = pickle.load(open('./large_graph.pkl', 'rb'))\n",
    "gn_model = GNModel(GNDataset(larger_graph), 0.001)\n",
    "communities = gn_model.communities\n",
    "print('--------------Communities-----------------')\n",
    "for c in communities:\n",
    "    print(c)"
   ]
  }
 ]
}